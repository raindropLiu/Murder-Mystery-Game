{
  "cells": [
    {
      "cell_type": "markdown",
      "metadata": {
        "id": "view-in-github",
        "colab_type": "text"
      },
      "source": [
        "<a href=\"https://colab.research.google.com/github/raindropLiu/Murder-Mystery-Game/blob/master/tests/server_zh.ipynb\" target=\"_parent\"><img src=\"https://colab.research.google.com/assets/colab-badge.svg\" alt=\"Open In Colab\"/></a>"
      ]
    },
    {
      "cell_type": "markdown",
      "metadata": {
        "id": "MtLkX4umm5L8"
      },
      "source": [
        "# 欢迎来到 `carefree-creator`!\n",
        "\n",
        "非常感谢 [@Explosion-Scratch](https://github.com/Explosion-Scratch), 本指南的诞生得益于 ta 的帮助与支持 🥳\n",
        "\n",
        "我会在接下来给出每一步要做的事情，只要跟着走，应该就不会有大问题！"
      ]
    },
    {
      "cell_type": "markdown",
      "metadata": {
        "id": "-jwOeZafnFQR"
      },
      "source": [
        "# 准备工作\n",
        "\n",
        "为了使用该 colab，需要手动操作的仅有一个——那就是获取您 `ngrok` 账号的 `Authtoken`：\n",
        "1. 首先，需要访问[这里](https://dashboard.ngrok.com/get-started/your-authtoken)来获得您一个叫 `Authtoken` 的东西\n",
        "  - 如果您尚未注册过这个网站，则需要按照它的引导进行注册（免费且快捷！），然后再访问[这个链接](https://dashboard.ngrok.com/get-started/your-authtoken)\n",
        "\n",
        "2. 在成功访问后，您应该会看到这么一个界面：\n",
        "\n",
        "![ngrok authtoken](https://github.com/carefree0910/datasets/releases/download/static/ngrok_auth.png)\n",
        "\n",
        "您可以直接复制我涂了红色方块部分的文本，或者点击右边的 `Copy` 按钮，来复制您的 `Authtoken`。然后，在下面单元的 `%env AUTHTOKEN=` 后面，把您的这个 `Authtoken` 粘贴进去："
      ]
    },
    {
      "cell_type": "code",
      "source": [
        "%env AUTHTOKEN=2HwOyPIhPOkS2zQniLxHoJcOAv5_Gy3eq4p4TJ5WuyGE1RcH"
      ],
      "metadata": {
        "id": "MySyA6zUPu4n",
        "colab": {
          "base_uri": "https://localhost:8080/"
        },
        "outputId": "5edaf054-97f5-4dc8-fccf-5b85947e37e8"
      },
      "execution_count": 1,
      "outputs": [
        {
          "output_type": "stream",
          "name": "stdout",
          "text": [
            "env: AUTHTOKEN=2HwOyPIhPOkS2zQniLxHoJcOAv5_Gy3eq4p4TJ5WuyGE1RcH\n"
          ]
        }
      ]
    },
    {
      "cell_type": "markdown",
      "source": [
        "粘贴完后，您只需要点击页面上方的「代码执行程序」菜单，并点击里面的「全部运行」：\n",
        "\n",
        "![run all](https://github.com/carefree0910/datasets/releases/download/static/colab_run_all.png)\n",
        "\n",
        "页面会询问您是否允许访问您的 Google Drive，如果您不需要使用自己的模型之类的，即使不允许也没有关系 😉\n",
        "\n",
        "之后，滚动到页面底部的单元，并跟着我在那里写的说明走即可！"
      ],
      "metadata": {
        "id": "VZJ-3o2uf-l_"
      }
    },
    {
      "cell_type": "code",
      "source": [
        "from IPython.utils import capture\n",
        "from IPython.display import clear_output\n",
        "\n",
        "from google.colab import drive\n",
        "drive.mount('/content/gdrive')"
      ],
      "metadata": {
        "id": "JdQ2MHIYAUt3",
        "colab": {
          "base_uri": "https://localhost:8080/"
        },
        "outputId": "54fc2379-d9bf-4d92-ee8e-c7376ac7db7e"
      },
      "execution_count": 2,
      "outputs": [
        {
          "output_type": "stream",
          "name": "stdout",
          "text": [
            "Mounted at /content/gdrive\n"
          ]
        }
      ]
    },
    {
      "cell_type": "code",
      "execution_count": 3,
      "metadata": {
        "id": "WYLDlqa9jwBV"
      },
      "outputs": [],
      "source": [
        "with capture.capture_output():\n",
        "  !curl -s https://ngrok-agent.s3.amazonaws.com/ngrok.asc | sudo tee /etc/apt/trusted.gpg.d/ngrok.asc >/dev/null && echo \"deb https://ngrok-agent.s3.amazonaws.com buster main\" | sudo tee /etc/apt/sources.list.d/ngrok.list && sudo apt update && sudo apt install ngrok\n",
        "  clear_output()"
      ]
    },
    {
      "cell_type": "code",
      "execution_count": 4,
      "metadata": {
        "id": "3Ow0RGwqi_yI"
      },
      "outputs": [],
      "source": [
        "with capture.capture_output():\n",
        "  !python3 -m pip install carefree-creator==0.2.9\n",
        "  clear_output()"
      ]
    },
    {
      "cell_type": "code",
      "execution_count": 5,
      "metadata": {
        "id": "ocvJfLlT442_"
      },
      "outputs": [],
      "source": [
        "with capture.capture_output():\n",
        "  !python3 -m pip install torch torchvision torchaudio --extra-index-url https://download.pytorch.org/whl/cu118\n",
        "  !python3 -m pip install -U xformers --index-url https://download.pytorch.org/whl/cu118\n",
        "  !python3 -m pip install pyngrok\n",
        "  clear_output()"
      ]
    },
    {
      "cell_type": "code",
      "execution_count": 6,
      "metadata": {
        "id": "hTrXjsydXSTL",
        "colab": {
          "base_uri": "https://localhost:8080/"
        },
        "outputId": "1104a775-45f3-4273-c25f-3f9a83f737d5"
      },
      "outputs": [
        {
          "output_type": "stream",
          "name": "stdout",
          "text": [
            "Authtoken saved to configuration file: /root/.config/ngrok/ngrok.yml\n"
          ]
        }
      ],
      "source": [
        "!ngrok authtoken $AUTHTOKEN"
      ]
    },
    {
      "cell_type": "code",
      "execution_count": 7,
      "metadata": {
        "id": "vebcqNfJc98L",
        "colab": {
          "base_uri": "https://localhost:8080/"
        },
        "outputId": "771fc6f9-60ee-457f-ae81-ed9d5abe122b"
      },
      "outputs": [
        {
          "output_type": "stream",
          "name": "stdout",
          "text": [
            "\n",
            "Paste the following url to the WebUI: https://bcd5-34-87-168-176.ngrok-free.app \n",
            "\n",
            "2025-01-16 02:00:03.125471: E external/local_xla/xla/stream_executor/cuda/cuda_fft.cc:485] Unable to register cuFFT factory: Attempting to register factory for plugin cuFFT when one has already been registered\n",
            "2025-01-16 02:00:03.144701: E external/local_xla/xla/stream_executor/cuda/cuda_dnn.cc:8454] Unable to register cuDNN factory: Attempting to register factory for plugin cuDNN when one has already been registered\n",
            "2025-01-16 02:00:03.150541: E external/local_xla/xla/stream_executor/cuda/cuda_blas.cc:1452] Unable to register cuBLAS factory: Attempting to register factory for plugin cuBLAS when one has already been registered\n",
            "2025-01-16 02:00:03.165720: I tensorflow/core/platform/cpu_feature_guard.cc:210] This TensorFlow binary is optimized to use available CPU instructions in performance-critical operations.\n",
            "To enable the following instructions: AVX2 AVX512F FMA, in other operations, rebuild TensorFlow with the appropriate compiler flags.\n",
            "2025-01-16 02:00:04.248432: W tensorflow/compiler/tf2tensorrt/utils/py_utils.cc:38] TF-TRT Warning: Could not find TensorRT\n",
            "/usr/local/lib/python3.11/dist-packages/fairscale/experimental/nn/offload.py:19: FutureWarning: `torch.cuda.amp.custom_fwd(args...)` is deprecated. Please use `torch.amp.custom_fwd(args..., device_type='cuda')` instead.\n",
            "  return torch.cuda.amp.custom_fwd(orig_func)  # type: ignore\n",
            "/usr/local/lib/python3.11/dist-packages/fairscale/experimental/nn/offload.py:30: FutureWarning: `torch.cuda.amp.custom_bwd(args...)` is deprecated. Please use `torch.amp.custom_bwd(args..., device_type='cuda')` instead.\n",
            "  return torch.cuda.amp.custom_bwd(orig_func)  # type: ignore\n",
            "> init APIs.SD \n",
            "Traceback (most recent call last):\n",
            "  File \"/usr/local/lib/python3.11/dist-packages/starlette/routing.py\", line 677, in lifespan\n",
            "    async with self.lifespan_context(app) as maybe_state:\n",
            "  File \"/usr/local/lib/python3.11/dist-packages/starlette/routing.py\", line 566, in __aenter__\n",
            "    await self._router.startup()\n",
            "  File \"/usr/local/lib/python3.11/dist-packages/starlette/routing.py\", line 654, in startup\n",
            "    await handler()\n",
            "  File \"/usr/local/lib/python3.11/dist-packages/cfcreator/apis/interface.py\", line 331, in startup\n",
            "    v.initialize()\n",
            "  File \"/usr/local/lib/python3.11/dist-packages/cfcreator/txt2img.py\", line 52, in initialize\n",
            "    register_sd()\n",
            "  File \"/usr/local/lib/python3.11/dist-packages/cfcreator/common.py\", line 125, in register_sd\n",
            "    api_pool.register(APIs.SD, init_sd)\n",
            "  File \"/usr/local/lib/python3.11/dist-packages/cfcreator/utils.py\", line 177, in register\n",
            "    return super().register(key, _init)\n",
            "           ^^^^^^^^^^^^^^^^^^^^^^^^^^^^\n",
            "  File \"/usr/local/lib/python3.11/dist-packages/cftool/data_structures.py\", line 290, in register\n",
            "    loadable_item = init_fn(init)\n",
            "                    ^^^^^^^^^^^^^\n",
            "  File \"/usr/local/lib/python3.11/dist-packages/cfcreator/utils.py\", line 172, in _init\n",
            "    api.load(no_change=api.lazy)\n",
            "  File \"/usr/local/lib/python3.11/dist-packages/cfcreator/utils.py\", line 146, in load\n",
            "    super().load()\n",
            "  File \"/usr/local/lib/python3.11/dist-packages/cftool/data_structures.py\", line 256, in load\n",
            "    self._item = self.init_fn()\n",
            "                 ^^^^^^^^^^^^^^\n",
            "  File \"/usr/local/lib/python3.11/dist-packages/cfcreator/utils.py\", line 125, in <lambda>\n",
            "    super().__init__(lambda: init_fn(self.init_to_cpu), init=init)\n",
            "                             ^^^^^^^^^^^^^^^^^^^^^^^^^\n",
            "  File \"/usr/local/lib/python3.11/dist-packages/cfcreator/common.py\", line 82, in init_sd\n",
            "    m: ControlledDiffusionAPI = _get(init_fn, init_to_cpu)\n",
            "                                ^^^^^^^^^^^^^^^^^^^^^^^^^^\n",
            "  File \"/usr/local/lib/python3.11/dist-packages/cfcreator/common.py\", line 75, in _get\n",
            "    return init_fn(\"cuda:0\", use_half=True)\n",
            "           ^^^^^^^^^^^^^^^^^^^^^^^^^^^^^^^^\n",
            "  File \"/usr/local/lib/python3.11/dist-packages/cflearn/api/cv/diffusion.py\", line 1410, in from_sd_version\n",
            "    m = ldm_sd_tag(get_sd_tag(version))\n",
            "        ^^^^^^^^^^^^^^^^^^^^^^^^^^^^^^^\n",
            "  File \"/usr/local/lib/python3.11/dist-packages/cflearn/api/zoo/__init__.py\", line 116, in ldm_sd_tag\n",
            "    return ldm_sd(pretrained, download_name=f\"ldm_sd_{tag}\")\n",
            "           ^^^^^^^^^^^^^^^^^^^^^^^^^^^^^^^^^^^^^^^^^^^^^^^^^\n",
            "  File \"/usr/local/lib/python3.11/dist-packages/cflearn/api/zoo/__init__.py\", line 112, in ldm_sd\n",
            "    return _ldm(\"diffusion/ldm.sd\", 64, 4, 4, pretrained=pretrained, **kwargs)\n",
            "           ^^^^^^^^^^^^^^^^^^^^^^^^^^^^^^^^^^^^^^^^^^^^^^^^^^^^^^^^^^^^^^^^^^^\n",
            "  File \"/usr/local/lib/python3.11/dist-packages/cflearn/api/zoo/__init__.py\", line 78, in _ldm\n",
            "    return _load(model, **kwargs)\n",
            "           ^^^^^^^^^^^^^^^^^^^^^^\n",
            "  File \"/usr/local/lib/python3.11/dist-packages/cflearn/api/zoo/__init__.py\", line 16, in _load\n",
            "    return fn(model, **kwargs)  # type: ignore\n",
            "           ^^^^^^^^^^^^^^^^^^^\n",
            "  File \"/usr/local/lib/python3.11/dist-packages/cflearn/zoo/core.py\", line 114, in load_pipeline\n",
            "    states_path = download_model(download_name, root=root)\n",
            "                  ^^^^^^^^^^^^^^^^^^^^^^^^^^^^^^^^^^^^^^^^\n",
            "  File \"/usr/local/lib/python3.11/dist-packages/cflearn/misc/toolkit.py\", line 205, in download_model\n",
            "    return download(\"checkpoints\", \"pretrained-models\", name, root, \"pt\")\n",
            "           ^^^^^^^^^^^^^^^^^^^^^^^^^^^^^^^^^^^^^^^^^^^^^^^^^^^^^^^^^^^^^^\n",
            "  File \"/usr/local/lib/python3.11/dist-packages/cflearn/misc/toolkit.py\", line 152, in download\n",
            "    raise ValueError(f\"'{name}' is currently not available at '{tag}'\")\n",
            "ValueError: 'ldm_sd_SDVersions.v1_5' is currently not available at 'checkpoints'\n",
            "\n",
            "Application startup failed. Exiting.\n"
          ]
        }
      ],
      "source": [
        "!python3 -c \"import os; from pyngrok import ngrok; print('\\nPaste the following url to the WebUI:', ngrok.connect(8123, bind_tls=True).public_url, '\\n'); os.system('cfcreator serve --limit 1 --focus sd.base')\""
      ]
    },
    {
      "cell_type": "markdown",
      "source": [
        "# 当您看到这里时，其实已经离胜利很近了！\n",
        "\n",
        "由于全部运行完需要 3~5 min 的时间，所以需要您的耐心等待😆\n",
        "\n",
        "而当上方的单元出现：\n",
        "\n",
        "`> Server is Ready!`\n",
        "\n",
        "的文字后，算法服务就正式部署完成了！此时，您可以将上方单元一开始打印出的\n",
        "\n",
        "`Paste the following url to the WebUI: xxxxxxx`\n",
        "\n",
        "里面的网址（url），复制粘贴到我们产品中下图所示的位置：\n",
        "\n",
        "![paste url](https://github.com/carefree0910/datasets/releases/download/static/paste_ngrok_url.png)\n",
        "\n",
        "在做完所有这些步骤后，您就可以继续使用我们的产品了！只是此时，您不再需要排队，而是会用这里的算力、模型来进行生成！🥳"
      ],
      "metadata": {
        "id": "cUucXOLGgaBp"
      }
    }
  ],
  "metadata": {
    "accelerator": "GPU",
    "colab": {
      "provenance": [],
      "include_colab_link": true
    },
    "gpuClass": "standard",
    "kernelspec": {
      "display_name": "Python 3",
      "name": "python3"
    },
    "language_info": {
      "name": "python"
    }
  },
  "nbformat": 4,
  "nbformat_minor": 0
}